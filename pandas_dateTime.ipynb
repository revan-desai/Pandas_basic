{
  "cells": [
    {
      "cell_type": "markdown",
      "metadata": {
        "id": "view-in-github",
        "colab_type": "text"
      },
      "source": [
        "<a href=\"https://colab.research.google.com/github/revan-desai/Pandas_basic/blob/main/pandas_dateTime.ipynb\" target=\"_parent\"><img src=\"https://colab.research.google.com/assets/colab-badge.svg\" alt=\"Open In Colab\"/></a>"
      ]
    },
    {
      "cell_type": "code",
      "execution_count": null,
      "metadata": {
        "colab": {
          "base_uri": "https://localhost:8080/"
        },
        "id": "UkBsTRbul_mT",
        "outputId": "8448cd1e-36a1-4213-a1e8-dfed069d7836"
      },
      "outputs": [
        {
          "output_type": "stream",
          "name": "stdout",
          "text": [
            "             fulldate\n",
            "0 2022-10-17 08:30:00\n",
            "1 2022-10-18 08:30:00\n",
            "2 2022-10-19 08:30:00\n",
            "3 2022-10-20 08:30:00\n",
            "4 2022-10-21 08:30:00\n",
            "5 2022-10-22 08:30:00\n",
            "6 2022-10-23 08:30:00\n",
            "7 2022-10-24 08:30:00\n",
            "8 2022-10-25 08:30:00\n",
            "9 2022-10-26 08:30:00\n",
            "             fulldate  R_day  R_month  R_year  R_hour  R_min\n",
            "0 2022-10-17 08:30:00     17       10    2022       8     30\n",
            "1 2022-10-18 08:30:00     18       10    2022       8     30\n",
            "2 2022-10-19 08:30:00     19       10    2022       8     30\n",
            "3 2022-10-20 08:30:00     20       10    2022       8     30\n",
            "4 2022-10-21 08:30:00     21       10    2022       8     30\n",
            "5 2022-10-22 08:30:00     22       10    2022       8     30\n",
            "6 2022-10-23 08:30:00     23       10    2022       8     30\n",
            "7 2022-10-24 08:30:00     24       10    2022       8     30\n",
            "8 2022-10-25 08:30:00     25       10    2022       8     30\n",
            "9 2022-10-26 08:30:00     26       10    2022       8     30\n"
          ]
        }
      ],
      "source": [
        "import pandas as pd\n",
        "\n",
        "indiatime=pd.DataFrame()\n",
        "\n",
        "indiatime['fulldate']=pd.date_range('17/10/2022 08:30',periods=10,freq='d')\n",
        "\n",
        "print(indiatime)\n",
        "\n",
        "\n",
        "indiatime['R_day']=indiatime['fulldate'].dt.day\n",
        "indiatime['R_month']=indiatime['fulldate'].dt.month\n",
        "indiatime['R_year']=indiatime['fulldate'].dt.year\n",
        "\n",
        "indiatime['R_hour']=indiatime['fulldate'].dt.hour\n",
        "indiatime['R_min']=indiatime['fulldate'].dt.minute\n",
        "print(indiatime)\n",
        "\n",
        "\n"
      ]
    },
    {
      "cell_type": "markdown",
      "source": [
        "##Current date in different formats"
      ],
      "metadata": {
        "id": "wGc9bO6h3sBZ"
      }
    },
    {
      "cell_type": "code",
      "source": [
        "from datetime import date\n",
        "\n",
        "today=date.today()\n",
        "\n",
        "print(today)\n"
      ],
      "metadata": {
        "colab": {
          "base_uri": "https://localhost:8080/"
        },
        "id": "cwgkEbfX3Rj9",
        "outputId": "6520bc54-82c4-4a98-91cb-323b7933cf26"
      },
      "execution_count": null,
      "outputs": [
        {
          "output_type": "stream",
          "name": "stdout",
          "text": [
            "2023-07-06\n"
          ]
        }
      ]
    },
    {
      "cell_type": "code",
      "source": [
        "from datetime import date\n",
        "\n",
        "today=date.today()\n",
        "\n",
        "d1=today.strftime('%d/%m/%y')\n",
        "print(d1)\n",
        "\n",
        "d2=today.strftime('%d-%B-%Y')\n",
        "\n",
        "print(d2)\n",
        "\n",
        "d3=today.strftime('%d %B %Y')\n",
        "\n",
        "print(d3)\n",
        "\n",
        "d4=today.strftime('%d %b, %Y')\n",
        "\n",
        "print(d4)"
      ],
      "metadata": {
        "colab": {
          "base_uri": "https://localhost:8080/"
        },
        "id": "PIA1DD7R4oa1",
        "outputId": "a4c14db2-8f8c-4520-a4cf-85090c54c2de"
      },
      "execution_count": null,
      "outputs": [
        {
          "output_type": "stream",
          "name": "stdout",
          "text": [
            "06/07/23\n",
            "06-July-2023\n",
            "06 July 2023\n",
            "06 Jul, 2023\n"
          ]
        }
      ]
    },
    {
      "cell_type": "markdown",
      "source": [
        "## timedelta"
      ],
      "metadata": {
        "id": "7yWfKg749hMo"
      }
    },
    {
      "cell_type": "code",
      "source": [
        "from datetime import datetime,time,date\n",
        "\n",
        "d1=datetime(2023,12,22,8,30,5)     # fixed format is this--> (year,month,day,hour,minute,second)\n",
        "\n",
        "d2=datetime(2024,12,22,8,30,6)\n",
        "\n",
        "d2-d1"
      ],
      "metadata": {
        "colab": {
          "base_uri": "https://localhost:8080/"
        },
        "id": "Rg1EEjFs6A4x",
        "outputId": "65741fdf-0391-4321-a2b3-4dab6c2ca2fe"
      },
      "execution_count": null,
      "outputs": [
        {
          "output_type": "execute_result",
          "data": {
            "text/plain": [
              "datetime.timedelta(days=366, seconds=1)"
            ]
          },
          "metadata": {},
          "execution_count": 66
        }
      ]
    },
    {
      "cell_type": "markdown",
      "source": [
        "## Day first format\n",
        "By default, to_datetime() will parse string with month first (MM/DD, MM DD, or MM-DD) format, and this arrangement is relatively unique in the United State.\n",
        "\n",
        "In most of the rest of the world, the day is written first (DD/MM, DD MM, or DD-MM). If you would like Pandas to consider day first instead of month, you can set the argument dayfirst to True."
      ],
      "metadata": {
        "id": "ebsB-MHSBOXs"
      }
    },
    {
      "cell_type": "code",
      "source": [
        "import pandas as pd\n",
        "\n",
        "df=pd.DataFrame()\n",
        "\n",
        "df['date']=pd.date_range('17/10/2022 08:30',periods=5,freq='d')\n",
        "\n",
        "df['date']=pd.to_datetime(df['date'],format='%d-%B-%Y %h:%min')\n",
        "\n",
        "print(df['date'])"
      ],
      "metadata": {
        "colab": {
          "base_uri": "https://localhost:8080/"
        },
        "id": "BpQz9gjWBQK5",
        "outputId": "2983cca6-4888-45f0-a12d-f4b46ff6a38a"
      },
      "execution_count": null,
      "outputs": [
        {
          "output_type": "stream",
          "name": "stdout",
          "text": [
            "0   2022-10-17 08:30:00\n",
            "1   2022-10-18 08:30:00\n",
            "2   2022-10-19 08:30:00\n",
            "3   2022-10-20 08:30:00\n",
            "4   2022-10-21 08:30:00\n",
            "Name: date, dtype: datetime64[ns]\n"
          ]
        }
      ]
    }
  ],
  "metadata": {
    "colab": {
      "provenance": [],
      "authorship_tag": "ABX9TyMuUZydTXp0sZkuBNTloRm0",
      "include_colab_link": true
    },
    "kernelspec": {
      "display_name": "Python 3",
      "name": "python3"
    },
    "language_info": {
      "name": "python"
    }
  },
  "nbformat": 4,
  "nbformat_minor": 0
}