{
  "nbformat": 4,
  "nbformat_minor": 0,
  "metadata": {
    "colab": {
      "provenance": [],
      "mount_file_id": "1zcIzjscquyaxMp3jzGzYQtcujZFs3eMy",
      "authorship_tag": "ABX9TyNOsTeYMNQfSCPIp5/i/7u0",
      "include_colab_link": true
    },
    "kernelspec": {
      "name": "python3",
      "display_name": "Python 3"
    },
    "language_info": {
      "name": "python"
    }
  },
  "cells": [
    {
      "cell_type": "markdown",
      "metadata": {
        "id": "view-in-github",
        "colab_type": "text"
      },
      "source": [
        "<a href=\"https://colab.research.google.com/github/revan-desai/Pandas_basic/blob/main/pandas_read_csv_03.ipynb\" target=\"_parent\"><img src=\"https://colab.research.google.com/assets/colab-badge.svg\" alt=\"Open In Colab\"/></a>"
      ]
    },
    {
      "cell_type": "code",
      "execution_count": 38,
      "metadata": {
        "id": "_QO8jaQS8ERZ"
      },
      "outputs": [],
      "source": [
        "import pandas as pd\n",
        "\n",
        "data=pd.read_csv(\"/content/student.csv\")\n",
        "\n",
        "print(data)"
      ]
    },
    {
      "cell_type": "markdown",
      "source": [
        "## head() --by default will return first/top 5 values\n",
        "\n",
        "## head(10)---will return 10 values in this case"
      ],
      "metadata": {
        "id": "QsjRcFNnpE0O"
      }
    },
    {
      "cell_type": "code",
      "source": [
        "import pandas as pd\n",
        "data=pd.read_csv(\"/content/student.csv\")\n",
        "\n",
        "print(data.head())          # first/top 5 values\n",
        "\n",
        "print(\"\\n\")\n",
        "\n",
        "print(data.head(10))"
      ],
      "metadata": {
        "colab": {
          "base_uri": "https://localhost:8080/"
        },
        "id": "Imd_xRg5A50b",
        "outputId": "a5950f36-4518-4b00-a364-b6033ab88c53"
      },
      "execution_count": 40,
      "outputs": [
        {
          "output_type": "stream",
          "name": "stdout",
          "text": [
            "   id        name  class  mark  gender\n",
            "0   1    John Deo   Four    75  female\n",
            "1   2    Max Ruin  Three    85    male\n",
            "2   3      Arnold  Three    55    male\n",
            "3   4  Krish Star   Four    60  female\n",
            "4   5   John Mike   Four    60  female\n",
            "\n",
            "\n",
            "   id         name  class  mark  gender\n",
            "0   1     John Deo   Four    75  female\n",
            "1   2     Max Ruin  Three    85    male\n",
            "2   3       Arnold  Three    55    male\n",
            "3   4   Krish Star   Four    60  female\n",
            "4   5    John Mike   Four    60  female\n",
            "5   6    Alex John   Four    55    male\n",
            "6   7  My John Rob  Fifth    78    male\n",
            "7   8       Asruid   Five    85    male\n",
            "8   9      Tes Qry    Six    78    male\n",
            "9  10     Big John   Four    55  female\n"
          ]
        }
      ]
    },
    {
      "cell_type": "markdown",
      "source": [
        "## tail() --by default will return last/bottom 5 values\n",
        "\n",
        "## tail(15)---will return 15 values in this case"
      ],
      "metadata": {
        "id": "tV-4ZQYUpXJ4"
      }
    },
    {
      "cell_type": "code",
      "source": [
        "import pandas as pd\n",
        "\n",
        "data=pd.read_csv('/content/student.csv')\n",
        "\n",
        "print(data.tail())    # last/bottom 5 values\n",
        "\n",
        "print(\"\\n\")\n",
        "\n",
        "print(data.tail(15))"
      ],
      "metadata": {
        "colab": {
          "base_uri": "https://localhost:8080/"
        },
        "id": "1k5O8g47BKCK",
        "outputId": "8f4107bc-a8b6-4b08-dcdb-d07529c6e3b7"
      },
      "execution_count": 42,
      "outputs": [
        {
          "output_type": "stream",
          "name": "stdout",
          "text": [
            "    id         name  class  mark  gender\n",
            "30  31  Marry Toeey   Four    88    male\n",
            "31  32    Binn Rott  Seven    90  female\n",
            "32  33    Kenn Rein    Six    96  female\n",
            "33  34     Gain Toe  Seven    69    male\n",
            "34  35   Rows Noump    Six    88  female\n",
            "\n",
            "\n",
            "    id         name  class  mark  gender\n",
            "20  21   Babby John   Four    69  female\n",
            "21  22       Reggid  Seven    55  female\n",
            "22  23        Herod  Eight    79    male\n",
            "23  24    Tiddy Now  Seven    78    male\n",
            "24  25     Giff Tow  Seven    88    male\n",
            "25  26       Crelea  Seven    79    male\n",
            "26  27     Big Nose  Three    81  female\n",
            "27  28    Rojj Base  Seven    86  female\n",
            "28  29  Tess Played  Seven    55    male\n",
            "29  30    Reppy Red    Six    79  female\n",
            "30  31  Marry Toeey   Four    88    male\n",
            "31  32    Binn Rott  Seven    90  female\n",
            "32  33    Kenn Rein    Six    96  female\n",
            "33  34     Gain Toe  Seven    69    male\n",
            "34  35   Rows Noump    Six    88  female\n"
          ]
        }
      ]
    },
    {
      "cell_type": "markdown",
      "source": [
        "## info() function  provide non null count data type of each count"
      ],
      "metadata": {
        "id": "Qwk-lJWlpnfs"
      }
    },
    {
      "cell_type": "code",
      "source": [
        "import pandas as pd\n",
        "\n",
        "data=pd.read_csv('/content/student.csv')\n",
        "\n",
        "data.info()"
      ],
      "metadata": {
        "colab": {
          "base_uri": "https://localhost:8080/"
        },
        "id": "d5WPD_9E-0mL",
        "outputId": "70755b81-a03c-43a3-aa26-3b9a2641b3a8"
      },
      "execution_count": 4,
      "outputs": [
        {
          "output_type": "stream",
          "name": "stdout",
          "text": [
            "<class 'pandas.core.frame.DataFrame'>\n",
            "RangeIndex: 35 entries, 0 to 34\n",
            "Data columns (total 5 columns):\n",
            " #   Column  Non-Null Count  Dtype \n",
            "---  ------  --------------  ----- \n",
            " 0   id      35 non-null     int64 \n",
            " 1   name    35 non-null     object\n",
            " 2   class   35 non-null     object\n",
            " 3   mark    35 non-null     int64 \n",
            " 4   gender  35 non-null     object\n",
            "dtypes: int64(2), object(3)\n",
            "memory usage: 1.5+ KB\n"
          ]
        }
      ]
    },
    {
      "cell_type": "markdown",
      "source": [
        "#describe() function gives details like count min max"
      ],
      "metadata": {
        "id": "hTWb5FIHmjTl"
      }
    },
    {
      "cell_type": "code",
      "source": [
        "import pandas as pd\n",
        "\n",
        "data=pd.read_csv(\"/content/student.csv\")\n",
        "\n",
        "data.describe()"
      ],
      "metadata": {
        "colab": {
          "base_uri": "https://localhost:8080/",
          "height": 300
        },
        "id": "DnrsQmJkjfoP",
        "outputId": "691b1574-7df7-4afc-f07c-5a8c0b2911f0"
      },
      "execution_count": 20,
      "outputs": [
        {
          "output_type": "execute_result",
          "data": {
            "text/plain": [
              "              id       mark\n",
              "count  35.000000  35.000000\n",
              "mean   18.000000  74.657143\n",
              "std    10.246951  16.401117\n",
              "min     1.000000  18.000000\n",
              "25%     9.500000  62.500000\n",
              "50%    18.000000  79.000000\n",
              "75%    26.500000  88.000000\n",
              "max    35.000000  96.000000"
            ],
            "text/html": [
              "\n",
              "  <div id=\"df-431116a3-840a-473a-9c3f-951e85ee998d\">\n",
              "    <div class=\"colab-df-container\">\n",
              "      <div>\n",
              "<style scoped>\n",
              "    .dataframe tbody tr th:only-of-type {\n",
              "        vertical-align: middle;\n",
              "    }\n",
              "\n",
              "    .dataframe tbody tr th {\n",
              "        vertical-align: top;\n",
              "    }\n",
              "\n",
              "    .dataframe thead th {\n",
              "        text-align: right;\n",
              "    }\n",
              "</style>\n",
              "<table border=\"1\" class=\"dataframe\">\n",
              "  <thead>\n",
              "    <tr style=\"text-align: right;\">\n",
              "      <th></th>\n",
              "      <th>id</th>\n",
              "      <th>mark</th>\n",
              "    </tr>\n",
              "  </thead>\n",
              "  <tbody>\n",
              "    <tr>\n",
              "      <th>count</th>\n",
              "      <td>35.000000</td>\n",
              "      <td>35.000000</td>\n",
              "    </tr>\n",
              "    <tr>\n",
              "      <th>mean</th>\n",
              "      <td>18.000000</td>\n",
              "      <td>74.657143</td>\n",
              "    </tr>\n",
              "    <tr>\n",
              "      <th>std</th>\n",
              "      <td>10.246951</td>\n",
              "      <td>16.401117</td>\n",
              "    </tr>\n",
              "    <tr>\n",
              "      <th>min</th>\n",
              "      <td>1.000000</td>\n",
              "      <td>18.000000</td>\n",
              "    </tr>\n",
              "    <tr>\n",
              "      <th>25%</th>\n",
              "      <td>9.500000</td>\n",
              "      <td>62.500000</td>\n",
              "    </tr>\n",
              "    <tr>\n",
              "      <th>50%</th>\n",
              "      <td>18.000000</td>\n",
              "      <td>79.000000</td>\n",
              "    </tr>\n",
              "    <tr>\n",
              "      <th>75%</th>\n",
              "      <td>26.500000</td>\n",
              "      <td>88.000000</td>\n",
              "    </tr>\n",
              "    <tr>\n",
              "      <th>max</th>\n",
              "      <td>35.000000</td>\n",
              "      <td>96.000000</td>\n",
              "    </tr>\n",
              "  </tbody>\n",
              "</table>\n",
              "</div>\n",
              "      <button class=\"colab-df-convert\" onclick=\"convertToInteractive('df-431116a3-840a-473a-9c3f-951e85ee998d')\"\n",
              "              title=\"Convert this dataframe to an interactive table.\"\n",
              "              style=\"display:none;\">\n",
              "        \n",
              "  <svg xmlns=\"http://www.w3.org/2000/svg\" height=\"24px\"viewBox=\"0 0 24 24\"\n",
              "       width=\"24px\">\n",
              "    <path d=\"M0 0h24v24H0V0z\" fill=\"none\"/>\n",
              "    <path d=\"M18.56 5.44l.94 2.06.94-2.06 2.06-.94-2.06-.94-.94-2.06-.94 2.06-2.06.94zm-11 1L8.5 8.5l.94-2.06 2.06-.94-2.06-.94L8.5 2.5l-.94 2.06-2.06.94zm10 10l.94 2.06.94-2.06 2.06-.94-2.06-.94-.94-2.06-.94 2.06-2.06.94z\"/><path d=\"M17.41 7.96l-1.37-1.37c-.4-.4-.92-.59-1.43-.59-.52 0-1.04.2-1.43.59L10.3 9.45l-7.72 7.72c-.78.78-.78 2.05 0 2.83L4 21.41c.39.39.9.59 1.41.59.51 0 1.02-.2 1.41-.59l7.78-7.78 2.81-2.81c.8-.78.8-2.07 0-2.86zM5.41 20L4 18.59l7.72-7.72 1.47 1.35L5.41 20z\"/>\n",
              "  </svg>\n",
              "      </button>\n",
              "      \n",
              "  <style>\n",
              "    .colab-df-container {\n",
              "      display:flex;\n",
              "      flex-wrap:wrap;\n",
              "      gap: 12px;\n",
              "    }\n",
              "\n",
              "    .colab-df-convert {\n",
              "      background-color: #E8F0FE;\n",
              "      border: none;\n",
              "      border-radius: 50%;\n",
              "      cursor: pointer;\n",
              "      display: none;\n",
              "      fill: #1967D2;\n",
              "      height: 32px;\n",
              "      padding: 0 0 0 0;\n",
              "      width: 32px;\n",
              "    }\n",
              "\n",
              "    .colab-df-convert:hover {\n",
              "      background-color: #E2EBFA;\n",
              "      box-shadow: 0px 1px 2px rgba(60, 64, 67, 0.3), 0px 1px 3px 1px rgba(60, 64, 67, 0.15);\n",
              "      fill: #174EA6;\n",
              "    }\n",
              "\n",
              "    [theme=dark] .colab-df-convert {\n",
              "      background-color: #3B4455;\n",
              "      fill: #D2E3FC;\n",
              "    }\n",
              "\n",
              "    [theme=dark] .colab-df-convert:hover {\n",
              "      background-color: #434B5C;\n",
              "      box-shadow: 0px 1px 3px 1px rgba(0, 0, 0, 0.15);\n",
              "      filter: drop-shadow(0px 1px 2px rgba(0, 0, 0, 0.3));\n",
              "      fill: #FFFFFF;\n",
              "    }\n",
              "  </style>\n",
              "\n",
              "      <script>\n",
              "        const buttonEl =\n",
              "          document.querySelector('#df-431116a3-840a-473a-9c3f-951e85ee998d button.colab-df-convert');\n",
              "        buttonEl.style.display =\n",
              "          google.colab.kernel.accessAllowed ? 'block' : 'none';\n",
              "\n",
              "        async function convertToInteractive(key) {\n",
              "          const element = document.querySelector('#df-431116a3-840a-473a-9c3f-951e85ee998d');\n",
              "          const dataTable =\n",
              "            await google.colab.kernel.invokeFunction('convertToInteractive',\n",
              "                                                     [key], {});\n",
              "          if (!dataTable) return;\n",
              "\n",
              "          const docLinkHtml = 'Like what you see? Visit the ' +\n",
              "            '<a target=\"_blank\" href=https://colab.research.google.com/notebooks/data_table.ipynb>data table notebook</a>'\n",
              "            + ' to learn more about interactive tables.';\n",
              "          element.innerHTML = '';\n",
              "          dataTable['output_type'] = 'display_data';\n",
              "          await google.colab.output.renderOutput(dataTable, element);\n",
              "          const docLink = document.createElement('div');\n",
              "          docLink.innerHTML = docLinkHtml;\n",
              "          element.appendChild(docLink);\n",
              "        }\n",
              "      </script>\n",
              "    </div>\n",
              "  </div>\n",
              "  "
            ]
          },
          "metadata": {},
          "execution_count": 20
        }
      ]
    },
    {
      "cell_type": "code",
      "source": [
        "import pandas as pd\n",
        "\n",
        "data=pd.read_csv(\"/content/student.csv\")\n",
        "\n",
        "data.drop([4,5,6],axis=0,inplace=True)    #labels will remove  (4,5,6) are labels\n",
        "\n",
        "print(data)"
      ],
      "metadata": {
        "colab": {
          "base_uri": "https://localhost:8080/"
        },
        "id": "fhafjQUmfVE4",
        "outputId": "dcb5fdd2-cdf8-470b-e202-2be70c8dc4d1"
      },
      "execution_count": 43,
      "outputs": [
        {
          "output_type": "stream",
          "name": "stdout",
          "text": [
            "    id         name  class  mark  gender\n",
            "0    1     John Deo   Four    75  female\n",
            "1    2     Max Ruin  Three    85    male\n",
            "2    3       Arnold  Three    55    male\n",
            "3    4   Krish Star   Four    60  female\n",
            "7    8       Asruid   Five    85    male\n",
            "8    9      Tes Qry    Six    78    male\n",
            "9   10     Big John   Four    55  female\n",
            "10  11       Ronald    Six    89  female\n",
            "11  12        Recky    Six    94  female\n",
            "12  13          Kty  Seven    88  female\n",
            "13  14         Bigy  Seven    88  female\n",
            "14  15     Tade Row   Four    88    male\n",
            "15  16        Gimmy   Four    88    male\n",
            "16  17        Tumyu    Six    54    male\n",
            "17  18        Honny   Five    75    male\n",
            "18  19        Tinny   Nine    18    male\n",
            "19  20       Jackly   Nine    65  female\n",
            "20  21   Babby John   Four    69  female\n",
            "21  22       Reggid  Seven    55  female\n",
            "22  23        Herod  Eight    79    male\n",
            "23  24    Tiddy Now  Seven    78    male\n",
            "24  25     Giff Tow  Seven    88    male\n",
            "25  26       Crelea  Seven    79    male\n",
            "26  27     Big Nose  Three    81  female\n",
            "27  28    Rojj Base  Seven    86  female\n",
            "28  29  Tess Played  Seven    55    male\n",
            "29  30    Reppy Red    Six    79  female\n",
            "30  31  Marry Toeey   Four    88    male\n",
            "31  32    Binn Rott  Seven    90  female\n",
            "32  33    Kenn Rein    Six    96  female\n",
            "33  34     Gain Toe  Seven    69    male\n",
            "34  35   Rows Noump    Six    88  female\n"
          ]
        }
      ]
    }
  ]
}