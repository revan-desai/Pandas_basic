{
  "nbformat": 4,
  "nbformat_minor": 0,
  "metadata": {
    "colab": {
      "provenance": [],
      "authorship_tag": "ABX9TyM5O5vM50ImJUJ1vxFGG01D",
      "include_colab_link": true
    },
    "kernelspec": {
      "name": "python3",
      "display_name": "Python 3"
    },
    "language_info": {
      "name": "python"
    }
  },
  "cells": [
    {
      "cell_type": "markdown",
      "metadata": {
        "id": "view-in-github",
        "colab_type": "text"
      },
      "source": [
        "<a href=\"https://colab.research.google.com/github/revan-desai/Pandas_basic/blob/main/pandas_manipulation_01.ipynb\" target=\"_parent\"><img src=\"https://colab.research.google.com/assets/colab-badge.svg\" alt=\"Open In Colab\"/></a>"
      ]
    },
    {
      "cell_type": "markdown",
      "source": [
        "# Delete rows/columns from DataFrame using Pandas.drop()\n",
        "Syntax: DataFrame.drop(labels=None, axis=0, index=None, columns=None, level=None, inplace=False, errors=’raise’)\n",
        "\n",
        "Parameters:\n",
        "\n",
        "**labels**: String or list of strings referring row or column name.\n",
        "\n",
        "**axis**: int or string value, 0 ‘index’ for Rows and 1 ‘columns’ for Columns.\n",
        "\n",
        "**index or columns**: Single label or list. index or columns are an alternative to axis and cannot be used together.\n",
        "\n",
        "**level**: Used to specify level in case data frame is having multiple level index.\n",
        "\n",
        "**inplace**: Makes changes in original Data Frame if True.\n",
        "\n",
        "**errors**: Ignores error if any value from the list doesn’t exists and drops rest of the values when errors = ‘ignore’\n",
        "\n",
        "**Return type**: Dataframe with dropped values"
      ],
      "metadata": {
        "id": "zxMiK01Rdhzl"
      }
    },
    {
      "cell_type": "markdown",
      "source": [
        "## dropping rows from DataFrame"
      ],
      "metadata": {
        "id": "c9BouQLQdIYI"
      }
    },
    {
      "cell_type": "code",
      "source": [
        "import pandas as pd\n",
        "\n",
        "data1=pd.read_csv(\"/content/student.csv\")\n",
        "\n",
        "\n",
        "datanew=data1.drop([5,7,8,9,10],axis=0,inplace=False)      # drop record(rows) using primary key in table\n",
        "\n",
        "\n",
        "print(datanew)"
      ],
      "metadata": {
        "colab": {
          "base_uri": "https://localhost:8080/"
        },
        "id": "XyKxAIeedGkv",
        "outputId": "16180864-bbcf-4c05-b9aa-6ae3234fe843"
      },
      "execution_count": null,
      "outputs": [
        {
          "output_type": "stream",
          "name": "stdout",
          "text": [
            "    id         name  class  mark  gender\n",
            "0    1     John Deo   Four    75  female\n",
            "1    2     Max Ruin  Three    85    male\n",
            "2    3       Arnold  Three    55    male\n",
            "3    4   Krish Star   Four    60  female\n",
            "4    5    John Mike   Four    60  female\n",
            "6    7  My John Rob  Fifth    78    male\n",
            "11  12        Recky    Six    94  female\n",
            "12  13          Kty  Seven    88  female\n",
            "13  14         Bigy  Seven    88  female\n",
            "14  15     Tade Row   Four    88    male\n",
            "15  16        Gimmy   Four    88    male\n",
            "16  17        Tumyu    Six    54    male\n",
            "17  18        Honny   Five    75    male\n",
            "18  19        Tinny   Nine    18    male\n",
            "19  20       Jackly   Nine    65  female\n",
            "20  21   Babby John   Four    69  female\n",
            "21  22       Reggid  Seven    55  female\n",
            "22  23        Herod  Eight    79    male\n",
            "23  24    Tiddy Now  Seven    78    male\n",
            "24  25     Giff Tow  Seven    88    male\n",
            "25  26       Crelea  Seven    79    male\n",
            "26  27     Big Nose  Three    81  female\n",
            "27  28    Rojj Base  Seven    86  female\n",
            "28  29  Tess Played  Seven    55    male\n",
            "29  30    Reppy Red    Six    79  female\n",
            "30  31  Marry Toeey   Four    88    male\n",
            "31  32    Binn Rott  Seven    90  female\n",
            "32  33    Kenn Rein    Six    96  female\n",
            "33  34     Gain Toe  Seven    69    male\n",
            "34  35   Rows Noump    Six    88  female\n"
          ]
        }
      ]
    },
    {
      "cell_type": "markdown",
      "source": [
        "## dropping colomns from DataFrame"
      ],
      "metadata": {
        "id": "w4D2F19Lc48U"
      }
    },
    {
      "cell_type": "code",
      "execution_count": null,
      "metadata": {
        "colab": {
          "base_uri": "https://localhost:8080/"
        },
        "id": "vRd0kaEQX0Vf",
        "outputId": "2db679cf-220c-4db6-f0a8-8df7a4e7baf7"
      },
      "outputs": [
        {
          "output_type": "stream",
          "name": "stdout",
          "text": [
            "    id         name  class  gender\n",
            "0    1     John Deo   Four  female\n",
            "1    2     Max Ruin  Three    male\n",
            "2    3       Arnold  Three    male\n",
            "3    4   Krish Star   Four  female\n",
            "4    5    John Mike   Four  female\n",
            "5    6    Alex John   Four    male\n",
            "6    7  My John Rob  Fifth    male\n",
            "7    8       Asruid   Five    male\n",
            "8    9      Tes Qry    Six    male\n",
            "9   10     Big John   Four  female\n",
            "10  11       Ronald    Six  female\n",
            "11  12        Recky    Six  female\n",
            "12  13          Kty  Seven  female\n",
            "13  14         Bigy  Seven  female\n",
            "14  15     Tade Row   Four    male\n",
            "15  16        Gimmy   Four    male\n",
            "16  17        Tumyu    Six    male\n",
            "17  18        Honny   Five    male\n",
            "18  19        Tinny   Nine    male\n",
            "19  20       Jackly   Nine  female\n",
            "20  21   Babby John   Four  female\n",
            "21  22       Reggid  Seven  female\n",
            "22  23        Herod  Eight    male\n",
            "23  24    Tiddy Now  Seven    male\n",
            "24  25     Giff Tow  Seven    male\n",
            "25  26       Crelea  Seven    male\n",
            "26  27     Big Nose  Three  female\n",
            "27  28    Rojj Base  Seven  female\n",
            "28  29  Tess Played  Seven    male\n",
            "29  30    Reppy Red    Six  female\n",
            "30  31  Marry Toeey   Four    male\n",
            "31  32    Binn Rott  Seven  female\n",
            "32  33    Kenn Rein    Six  female\n",
            "33  34     Gain Toe  Seven    male\n",
            "34  35   Rows Noump    Six  female\n"
          ]
        }
      ],
      "source": [
        "data1=pd.read_csv(\"/content/student.csv\")\n",
        "\n",
        "datanew=data1.drop([\"mark\"],axis=1,inplace= False)     #observe we are not writing pd.drop\n",
        "\n",
        "print(datanew)                          # mark coloumn is removed from DataFrame(or table)"
      ]
    },
    {
      "cell_type": "markdown",
      "source": [
        "## DataFrame truncate()\n",
        "\n"
      ],
      "metadata": {
        "id": "g09i0_Y5h4Re"
      }
    },
    {
      "cell_type": "code",
      "source": [
        "import pandas as pd\n",
        "\n",
        "dict3={\"height\":[175,165,160],\"weight\":[55,65,70]}\n",
        "\n",
        "df=pd.DataFrame(dict3)\n",
        "\n",
        "index1=pd.date_range('2010-10-09 08:45',periods=3,freq='H')    # freq='H',freq='min',freq='M'(for month),freq='Y'(year),freq='w'(for week),freq='D'\n",
        "\n",
        "  # pandas automatically read and understand the above date format try changing it it still understand it\n",
        "df.index=index1\n",
        "\n",
        "print(df)\n",
        "\n",
        "\n"
      ],
      "metadata": {
        "colab": {
          "base_uri": "https://localhost:8080/"
        },
        "id": "Y2pMg1KlZSAT",
        "outputId": "0fc28f77-6f7a-4ff2-de47-5b0c866d8d41"
      },
      "execution_count": null,
      "outputs": [
        {
          "output_type": "stream",
          "name": "stdout",
          "text": [
            "                     height  weight\n",
            "2010-10-09 08:45:00     175      55\n",
            "2010-10-09 09:45:00     165      65\n",
            "2010-10-09 10:45:00     160      70\n"
          ]
        }
      ]
    },
    {
      "cell_type": "code",
      "source": [
        "import pandas as pd\n",
        "\n",
        "dict3={\"height\":[175,165,160],\"weight\":[55,65,70]}\n",
        "\n",
        "df=pd.DataFrame(dict3)\n",
        "\n",
        "index1=pd.date_range('17/10/2022 08:30',periods=3,freq='d')   # freq='D' or 'd'(not case sensitive)\n",
        "\n",
        "df.index=index1\n",
        "\n",
        "print(df)"
      ],
      "metadata": {
        "colab": {
          "base_uri": "https://localhost:8080/"
        },
        "id": "LaoN_ybco2r5",
        "outputId": "2358945c-0984-47d6-e478-726452c32e0d"
      },
      "execution_count": 1,
      "outputs": [
        {
          "output_type": "stream",
          "name": "stdout",
          "text": [
            "                     height  weight\n",
            "2022-10-17 08:30:00     175      55\n",
            "2022-10-18 08:30:00     165      65\n",
            "2022-10-19 08:30:00     160      70\n"
          ]
        }
      ]
    },
    {
      "cell_type": "code",
      "source": [
        "import pandas as pd\n",
        "\n",
        "df = pd.DataFrame({'Weight':[45, 88, 56, 15, 71],\n",
        "\t\t\t\t'Name':['Sam', 'Andrea', 'Alex', 'Robin', 'Kia'],\n",
        "\t\t\t\t'Age':[14, 25, 55, 8, 21]})\n",
        "\n",
        "index1=pd.date_range('17/10/2022 09:30',periods=5,freq='H')\n",
        "\n",
        "df.index=index1\n",
        "\n",
        "print(df)\n",
        "\n",
        "print(\"\\n\")\n",
        "\n",
        "result=df.truncate(before='2022-10-17 10:30:00',after='2022-10-17 12:30:00')\n",
        "\n",
        "print(result)"
      ],
      "metadata": {
        "id": "CPZYOikar7qH",
        "outputId": "879498ac-a55d-47e4-b293-53ca16248ba6",
        "colab": {
          "base_uri": "https://localhost:8080/"
        }
      },
      "execution_count": 14,
      "outputs": [
        {
          "output_type": "stream",
          "name": "stdout",
          "text": [
            "                     Weight    Name  Age\n",
            "2022-10-17 09:30:00      45     Sam   14\n",
            "2022-10-17 10:30:00      88  Andrea   25\n",
            "2022-10-17 11:30:00      56    Alex   55\n",
            "2022-10-17 12:30:00      15   Robin    8\n",
            "2022-10-17 13:30:00      71     Kia   21\n",
            "\n",
            "\n",
            "                     Weight    Name  Age\n",
            "2022-10-17 10:30:00      88  Andrea   25\n",
            "2022-10-17 11:30:00      56    Alex   55\n",
            "2022-10-17 12:30:00      15   Robin    8\n"
          ]
        }
      ]
    },
    {
      "cell_type": "code",
      "source": [
        "\n"
      ],
      "metadata": {
        "id": "M0LhlsBntLfx",
        "outputId": "481125c9-544e-4a3e-ab81-5b5552aa0e67",
        "colab": {
          "base_uri": "https://localhost:8080/"
        }
      },
      "execution_count": 11,
      "outputs": [
        {
          "output_type": "stream",
          "name": "stdout",
          "text": [
            "Empty DataFrame\n",
            "Columns: [Weight, Name, Age]\n",
            "Index: []\n"
          ]
        }
      ]
    }
  ]
}