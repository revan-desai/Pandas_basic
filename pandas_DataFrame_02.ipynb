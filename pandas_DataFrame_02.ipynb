{
  "nbformat": 4,
  "nbformat_minor": 0,
  "metadata": {
    "colab": {
      "provenance": [],
      "mount_file_id": "1r9XtxXwUUundRPt7lOhK6eUr-TRFi51J",
      "authorship_tag": "ABX9TyODnCD/JwGHtIZpYe2vd1sR",
      "include_colab_link": true
    },
    "kernelspec": {
      "name": "python3",
      "display_name": "Python 3"
    },
    "language_info": {
      "name": "python"
    }
  },
  "cells": [
    {
      "cell_type": "markdown",
      "metadata": {
        "id": "view-in-github",
        "colab_type": "text"
      },
      "source": [
        "<a href=\"https://colab.research.google.com/github/revan-desai/Pandas_basic/blob/main/pandas_DataFrame_02.ipynb\" target=\"_parent\"><img src=\"https://colab.research.google.com/assets/colab-badge.svg\" alt=\"Open In Colab\"/></a>"
      ]
    },
    {
      "cell_type": "markdown",
      "source": [
        "## What is a DataFrame?\n",
        "1. A Pandas DataFrame is a 2 dimensional data structure, like a 2 dimensional array, or a table with rows and columns."
      ],
      "metadata": {
        "id": "JrnH95llnS7_"
      }
    },
    {
      "cell_type": "markdown",
      "source": [
        "#DataFrames\n",
        "1. Data sets in Pandas are usually multi-dimensional tables, called DataFrames.\n",
        "\n",
        "2. DataFrame consists of three principal components, the data, rows, and columns.\n",
        "\n",
        "3. **Series is like a column, a DataFrame is the whole table.**"
      ],
      "metadata": {
        "id": "DBTbyCuilsrF"
      }
    },
    {
      "cell_type": "code",
      "execution_count": null,
      "metadata": {
        "colab": {
          "base_uri": "https://localhost:8080/"
        },
        "id": "gn6INuCelNSY",
        "outputId": "59a75266-0ce8-4b9f-c140-16dffb9284f4"
      },
      "outputs": [
        {
          "output_type": "stream",
          "name": "stdout",
          "text": [
            "   height  weight\n",
            "0     165      50\n",
            "1     170      65\n",
            "2     177      81\n"
          ]
        }
      ],
      "source": [
        "import pandas as pd\n",
        "\n",
        "persondata={\"height\":[165,170,177],\"weight\":[50,65,81]}\n",
        "\n",
        "df=pd.DataFrame(persondata)     # we havent provided index so default index will get assigned\n",
        "\n",
        "print(df)"
      ]
    },
    {
      "cell_type": "code",
      "source": [
        "import pandas as pd\n",
        "\n",
        "vehicles={\"cars\":[\"honda\",\"toyota\",\"tata\"],\"year\":[2015,2018,2022]}\n",
        "\n",
        "df=pd.DataFrame(vehicles,index=[\"4lac\",\"8lac\",\"9lac\"])     # we are providing index also\n",
        "\n",
        "print(df)"
      ],
      "metadata": {
        "colab": {
          "base_uri": "https://localhost:8080/"
        },
        "id": "LZ_2IV3a20wi",
        "outputId": "b13579ce-1762-4fb1-ff70-ab672f84e79b"
      },
      "execution_count": null,
      "outputs": [
        {
          "output_type": "stream",
          "name": "stdout",
          "text": [
            "        cars  year\n",
            "4lac   honda  2015\n",
            "8lac  toyota  2018\n",
            "9lac    tata  2022\n"
          ]
        }
      ]
    },
    {
      "cell_type": "code",
      "source": [
        "import pandas as pd\n",
        "\n",
        "persondata={\"height\":[167,160,178],\"weight\":[55,62,72]}\n",
        "\n",
        "df=pd.DataFrame(persondata)\n",
        "\n",
        "print(df.loc[1])     #  This example returns a Pandas Series.\n",
        "\n",
        "print(\"\\n\")\n",
        "\n",
        "print(df.loc[[0,2]]) # This example returns a Pandas DataFrame.          use a list of indexes\n",
        "\n"
      ],
      "metadata": {
        "colab": {
          "base_uri": "https://localhost:8080/"
        },
        "id": "9kc_aCZnpC4S",
        "outputId": "b2c7d55f-62a3-4914-938a-f8fd05198329"
      },
      "execution_count": null,
      "outputs": [
        {
          "output_type": "stream",
          "name": "stdout",
          "text": [
            "height    160\n",
            "weight     62\n",
            "Name: 1, dtype: int64\n",
            "\n",
            "\n",
            "   height  weight\n",
            "0     167      55\n",
            "2     178      72\n"
          ]
        }
      ]
    },
    {
      "cell_type": "code",
      "source": [
        "\n",
        "print(df.loc[0])   #return pandas series\n",
        "\n",
        "print(\"\\n\")\n",
        "\n",
        "print(df.loc[[0,2]])   #returns pandas DataFrame"
      ],
      "metadata": {
        "colab": {
          "base_uri": "https://localhost:8080/"
        },
        "id": "_L-ZS4yUsPm_",
        "outputId": "53dd3fb8-2267-49e0-dfd0-1d3c81707a7d"
      },
      "execution_count": null,
      "outputs": [
        {
          "output_type": "stream",
          "name": "stdout",
          "text": [
            "height    167\n",
            "weight     55\n",
            "Name: 0, dtype: int64\n",
            "\n",
            "\n",
            "   height  weight\n",
            "0     167      55\n",
            "2     178      72\n"
          ]
        }
      ]
    },
    {
      "cell_type": "code",
      "source": [
        "import pandas as pd\n",
        "\n",
        "vehicles={\"car\":[\"honda\",\"hyundai\",\"toyota\"],\"year\":[2015,2019,2022]}\n",
        "\n",
        "df=pd.DataFrame(vehicles,index=[\"4lac\",\"11lac\",\"25lac\"])\n",
        "\n",
        "print(df)\n",
        "print(\"\\n\")\n",
        "print(df.loc[\"4lac\"])\n",
        "print(type(df.loc[\"4lac\"]))  #type is pandas Series\n",
        "print(\"\\n\")\n",
        "print(df.loc[[\"4lac\",\"25lac\"]])\n",
        "print(type(df.loc[[\"4lac\",\"25lac\"]]))   #type is pandas DataFrame"
      ],
      "metadata": {
        "colab": {
          "base_uri": "https://localhost:8080/"
        },
        "id": "VwmokfnpsyJt",
        "outputId": "030e873d-9e05-4c92-b52e-2fb0dccc1510"
      },
      "execution_count": null,
      "outputs": [
        {
          "output_type": "stream",
          "name": "stdout",
          "text": [
            "           car  year\n",
            "4lac     honda  2015\n",
            "11lac  hyundai  2019\n",
            "25lac   toyota  2022\n",
            "\n",
            "\n",
            "car     honda\n",
            "year     2015\n",
            "Name: 4lac, dtype: object\n",
            "<class 'pandas.core.series.Series'>\n",
            "\n",
            "\n",
            "          car  year\n",
            "4lac    honda  2015\n",
            "25lac  toyota  2022\n",
            "<class 'pandas.core.frame.DataFrame'>\n"
          ]
        }
      ]
    }
  ]
}