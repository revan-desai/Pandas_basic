{
  "nbformat": 4,
  "nbformat_minor": 0,
  "metadata": {
    "colab": {
      "provenance": [],
      "authorship_tag": "ABX9TyMc16rOlx+qgDVhMbbMmyp2",
      "include_colab_link": true
    },
    "kernelspec": {
      "name": "python3",
      "display_name": "Python 3"
    },
    "language_info": {
      "name": "python"
    }
  },
  "cells": [
    {
      "cell_type": "markdown",
      "metadata": {
        "id": "view-in-github",
        "colab_type": "text"
      },
      "source": [
        "<a href=\"https://colab.research.google.com/github/revan-desai/Pandas_basic/blob/main/pandas_01_series.ipynb\" target=\"_parent\"><img src=\"https://colab.research.google.com/assets/colab-badge.svg\" alt=\"Open In Colab\"/></a>"
      ]
    },
    {
      "cell_type": "markdown",
      "source": [
        "pandas provide various data structures and opearations for manipulating\n",
        "\n",
        "1.  Pandas is open source python library that is made mainly for working with\n",
        "   relational or labeled data.\n",
        "\n",
        "2. Pandas provide various data structures and opearations for manipulating\n",
        "  **numerical data** and **time series.**\n",
        "\n"
      ],
      "metadata": {
        "id": "PBfu-GeIMgXD"
      }
    },
    {
      "cell_type": "markdown",
      "source": [
        "##Pandas generally provide two data structures for manipulating data:\n",
        "\n",
        "\n",
        "\n",
        "1.   Series\n",
        "2.   DataFrame\n",
        "\n"
      ],
      "metadata": {
        "id": "cJV195_eN1hb"
      }
    },
    {
      "cell_type": "markdown",
      "source": [
        "#1. Series\n",
        "\n",
        "1. Pandas series is 1-Dimensional array that can store data of any type.\n",
        "\n",
        "2. Pandas series is nothing but coloumn in an excel sheet/table."
      ],
      "metadata": {
        "id": "rFPeO_zUOvAt"
      }
    },
    {
      "cell_type": "code",
      "execution_count": null,
      "metadata": {
        "colab": {
          "base_uri": "https://localhost:8080/"
        },
        "id": "24lEBN5XfK0Y",
        "outputId": "59a980cb-7edf-4bc0-e43d-75c095a2ad4c"
      },
      "outputs": [
        {
          "output_type": "stream",
          "name": "stdout",
          "text": [
            "0     1\n",
            "1     5\n",
            "2     8\n",
            "3     4\n",
            "4    12\n",
            "dtype: int64\n"
          ]
        }
      ],
      "source": [
        "import pandas as pd\n",
        "\n",
        "list=[1,5,8,4,12]                  # with list\n",
        "a=pd.Series(list)\n",
        "print(a)\n"
      ]
    },
    {
      "cell_type": "code",
      "source": [
        "import pandas as pd\n",
        "import numpy as np\n",
        "\n",
        "arr=np.array([5,True,\"kedro\",9.668,2])\n",
        "\n",
        "a=pd.Series(arr)\n",
        "\n",
        "print(a)"
      ],
      "metadata": {
        "colab": {
          "base_uri": "https://localhost:8080/"
        },
        "id": "qrpFG9MuO2_-",
        "outputId": "0ab4d8d3-1073-4542-e08a-99188640efad"
      },
      "execution_count": null,
      "outputs": [
        {
          "output_type": "stream",
          "name": "stdout",
          "text": [
            "0        5\n",
            "1     True\n",
            "2    kedro\n",
            "3    9.668\n",
            "4        2\n",
            "dtype: object\n"
          ]
        }
      ]
    },
    {
      "cell_type": "markdown",
      "source": [
        "## Labels\n",
        "1. If nothing else is specified, the values are labeled with their index number.\n",
        "\n",
        "2. First value has index 0, second value has index 1 etc.\n",
        "\n",
        "e.g.  \n",
        "      \n",
        "      label     value\n",
        "      0         55\n",
        "\n",
        "      1        True\n",
        "\n",
        "      2        great\n",
        "\n",
        "      3        8.36"
      ],
      "metadata": {
        "id": "a_E0XfZbZSfh"
      }
    },
    {
      "cell_type": "code",
      "source": [
        "import pandas as pd\n",
        "\n",
        "\n",
        "l1=[55,True,\"great\",8.36]\n",
        "\n",
        "s=pd.Series(l1)\n",
        "\n",
        "print(s)\n",
        "\n",
        "print(s[0])"
      ],
      "metadata": {
        "colab": {
          "base_uri": "https://localhost:8080/"
        },
        "id": "EQ2wrke2uM3M",
        "outputId": "e8687955-ce24-443e-eee6-5c041a8c213a"
      },
      "execution_count": 21,
      "outputs": [
        {
          "output_type": "stream",
          "name": "stdout",
          "text": [
            "0       55\n",
            "1     True\n",
            "2    great\n",
            "3     8.36\n",
            "dtype: object\n",
            "55\n"
          ]
        }
      ]
    },
    {
      "cell_type": "markdown",
      "source": [
        "## Create labels\n",
        "\n",
        "create your own labels"
      ],
      "metadata": {
        "id": "RtOx7bttbJNP"
      }
    },
    {
      "cell_type": "code",
      "source": [
        "import pandas as pd\n",
        "\n",
        "a=[41,\"car\",False,88.58]\n",
        "\n",
        "s=pd.Series(a,index=[\"x\",\"y\",\"z\",9])\n",
        "\n",
        "print(s)\n",
        "\n",
        "print(\"show me the value associated with y label is   \" , s[\"x\"])"
      ],
      "metadata": {
        "colab": {
          "base_uri": "https://localhost:8080/"
        },
        "id": "-K_hO2gIbCaw",
        "outputId": "e596ea0d-e7dc-44b3-c0f5-61538440f6ea"
      },
      "execution_count": 32,
      "outputs": [
        {
          "output_type": "stream",
          "name": "stdout",
          "text": [
            "x       41\n",
            "y      car\n",
            "z    False\n",
            "9    88.58\n",
            "dtype: object\n",
            "show me the value associated with y label is    41\n"
          ]
        }
      ]
    },
    {
      "cell_type": "markdown",
      "source": [
        "## dictionary\n",
        "\n",
        "### The keys of the dictionary become the labels."
      ],
      "metadata": {
        "id": "0iDRYw-ljKK6"
      }
    },
    {
      "cell_type": "code",
      "source": [
        "import pandas as pd\n",
        "\n",
        "dict2={\"car1\":\"honda\",\"car2\":\"hyundai\",\"car3\":\"tata\"}\n",
        "\n",
        "a=pd.Series(dict2)\n",
        "\n",
        "print(a)\n",
        "\n"
      ],
      "metadata": {
        "colab": {
          "base_uri": "https://localhost:8080/"
        },
        "id": "dQD2H6Atdpw9",
        "outputId": "b887772f-feda-4f90-bd3c-8186567bfd3e"
      },
      "execution_count": 33,
      "outputs": [
        {
          "output_type": "stream",
          "name": "stdout",
          "text": [
            "car1      honda\n",
            "car2    hyundai\n",
            "car3       tata\n",
            "dtype: object\n"
          ]
        }
      ]
    },
    {
      "cell_type": "code",
      "source": [
        "import pandas as pd\n",
        "\n",
        "dict2={\"car1\":\"honda\",\"car2\":\"hyundai\",\"car3\":\"tata\",\"car4\":\"toyota\"}\n",
        "\n",
        "a=pd.Series(dict2,index=[\"car1\",\"car2\"])     #Create a Series using only data from \"car1\" and \"car2\"\n",
        "\n",
        "print(a)"
      ],
      "metadata": {
        "colab": {
          "base_uri": "https://localhost:8080/"
        },
        "id": "NtolMJ_-kCTM",
        "outputId": "f7015378-53f1-4535-b012-3735bfd0d7f5"
      },
      "execution_count": 38,
      "outputs": [
        {
          "output_type": "stream",
          "name": "stdout",
          "text": [
            "car1      honda\n",
            "car2    hyundai\n",
            "dtype: object\n"
          ]
        }
      ]
    },
    {
      "cell_type": "code",
      "source": [],
      "metadata": {
        "id": "PNKux8rAkJ_X"
      },
      "execution_count": null,
      "outputs": []
    }
  ]
}